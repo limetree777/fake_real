{
  "cells": [
    {
      "cell_type": "code",
      "execution_count": 1,
      "metadata": {},
      "outputs": [
        {
          "data": {
            "text/plain": [
              "'\\n파이토치 쿠다설정\\nhttps://blog.naver.com/me_a_me/223570004477\\n\\npython = 3.11.11\\ntorch = 2.6.0\\ncuda = 12.4\\ncudnn = 9.1.0.70\\n\\npip3 install torch torchvision torchaudio --index-url https://download.pytorch.org/whl/cu124\\n'"
            ]
          },
          "execution_count": 1,
          "metadata": {},
          "output_type": "execute_result"
        }
      ],
      "source": [
        "'''\n",
        "파이토치 쿠다설정\n",
        "https://blog.naver.com/me_a_me/223570004477\n",
        "\n",
        "python = 3.11.11\n",
        "torch = 2.6.0\n",
        "cuda = 12.4\n",
        "cudnn = 9.1.0.70\n",
        "\n",
        "pip3 install torch torchvision torchaudio --index-url https://download.pytorch.org/whl/cu124\n",
        "'''"
      ]
    },
    {
      "cell_type": "code",
      "execution_count": 2,
      "metadata": {
        "colab": {
          "base_uri": "https://localhost:8080/"
        },
        "id": "59Y15zUTSM4j",
        "outputId": "ddef3d50-632e-4245-f978-afc445541d73"
      },
      "outputs": [
        {
          "name": "stdout",
          "output_type": "stream",
          "text": [
            "Path to dataset files: C:\\Users\\qwer\\.cache\\kagglehub\\datasets\\birdy654\\cifake-real-and-ai-generated-synthetic-images\\versions\\3\n"
          ]
        }
      ],
      "source": [
        "import kagglehub\n",
        "\n",
        "# Download latest version\n",
        "path = kagglehub.dataset_download(\"birdy654/cifake-real-and-ai-generated-synthetic-images\")\n",
        "\n",
        "print(\"Path to dataset files:\", path)"
      ]
    },
    {
      "cell_type": "code",
      "execution_count": 3,
      "metadata": {
        "id": "jQx0uyfmStMH"
      },
      "outputs": [
        {
          "name": "stderr",
          "output_type": "stream",
          "text": [
            "c:\\Users\\qwer\\Desktop\\deepfake\\.conda\\Lib\\site-packages\\albumentations\\__init__.py:28: UserWarning: A new version of Albumentations is available: '2.0.7' (you have '2.0.5'). Upgrade using: pip install -U albumentations. To disable automatic update checks, set the environment variable NO_ALBUMENTATIONS_UPDATE to 1.\n",
            "  check_for_updates()\n"
          ]
        }
      ],
      "source": [
        "import os\n",
        "import io\n",
        "import cv2\n",
        "import timm\n",
        "import random\n",
        "\n",
        "from PIL import Image\n",
        "from tqdm.auto import tqdm  # Progress bars\n",
        "from PIL import ImageFile\n",
        "\n",
        "import numpy as np\n",
        "import pandas as pd\n",
        "import matplotlib.pyplot as plt\n",
        "import matplotlib.image as mpimg\n",
        "from collections import Counter\n",
        "\n",
        "import torch\n",
        "import torchvision\n",
        "import torch.nn as nn\n",
        "import torch.nn.functional as F\n",
        "import torchvision.datasets as datasets\n",
        "import torchvision.transforms as transforms\n",
        "from torchvision.datasets import ImageFolder\n",
        "from torch.utils.tensorboard import SummaryWriter\n",
        "\n",
        "import torch.optim as optim\n",
        "from torch.utils.data import Dataset, DataLoader\n",
        "from torch.utils.data import Subset, random_split\n",
        "\n",
        "import albumentations as A\n",
        "from albumentations.pytorch import ToTensorV2"
      ]
    },
    {
      "cell_type": "code",
      "execution_count": 4,
      "metadata": {},
      "outputs": [],
      "source": [
        "# seed 값을 설정합니다.\n",
        "seed = 0\n",
        "\n",
        "# 파이썬 seed를 고정합니다.\n",
        "random.seed(seed)   \n",
        "\n",
        "# 넘파이 seed를 고정합니다.\n",
        "np.random.seed(seed)\n",
        "\n",
        "# 파이토치 seed와 cuda, cudnn 시드를 고정합니다.\n",
        "device = 'cuda' if torch.cuda.is_available() else 'cpu'\n",
        "torch.manual_seed(seed)\n",
        "if device == 'cuda':\n",
        "    torch.cuda.manual_seed_all(seed)\n",
        "torch.backends.cudnn.deterministic = True\n",
        "torch.backends.cudnn.benchmark = False"
      ]
    },
    {
      "cell_type": "code",
      "execution_count": 5,
      "metadata": {
        "colab": {
          "base_uri": "https://localhost:8080/"
        },
        "id": "4CBLQtd_SvSM",
        "outputId": "3adebd04-9a3b-47b0-8e99-87b02bb0bc1e"
      },
      "outputs": [
        {
          "name": "stdout",
          "output_type": "stream",
          "text": [
            "train_REAL 이미지 파일 수: 50000\n",
            "test_REAL 이미지 파일 수: 10000\n",
            "train_FAKE 이미지 파일 수: 50000\n",
            "test_FAKE 이미지 파일 수: 10000\n",
            "이미지 파일 수: 120000\n"
          ]
        }
      ],
      "source": [
        "import os\n",
        "\n",
        "dataset_base_path = path\n",
        "dataset_path_train_real = os.path.join(dataset_base_path, 'train/REAL')\n",
        "dataset_path_train_fake = os.path.join(dataset_base_path, 'train/FAKE')\n",
        "dataset_path_test_real = os.path.join(dataset_base_path, 'test/REAL')\n",
        "dataset_path_test_fake = os.path.join(dataset_base_path, 'test/FAKE')\n",
        "\n",
        "# 경로에서 이미지 파일 목록 가져오기\n",
        "image_files_train_real = [f for f in os.listdir(dataset_path_train_real) if f.endswith(('.jpg', '.png'))]\n",
        "image_files_test_real = [f for f in os.listdir(dataset_path_test_real) if f.endswith(('.jpg', '.png'))]\n",
        "image_files_train_fake = [f for f in os.listdir(dataset_path_train_fake) if f.endswith(('.jpg', '.png'))]\n",
        "image_files_test_fake = [f for f in os.listdir(dataset_path_test_fake) if f.endswith(('.jpg', '.png'))]\n",
        "\n",
        "print(f\"train_REAL 이미지 파일 수: {len(image_files_train_real)}\")\n",
        "print(f\"test_REAL 이미지 파일 수: {len(image_files_test_real)}\")\n",
        "print(f\"train_FAKE 이미지 파일 수: {len(image_files_train_fake)}\")\n",
        "print(f\"test_FAKE 이미지 파일 수: {len(image_files_test_fake)}\")\n",
        "\n",
        "# 목록 합치기\n",
        "image_files = image_files_train_real + image_files_train_fake + image_files_test_real + image_files_test_fake\n",
        "\n",
        "print(f\"이미지 파일 수: {len(image_files)}\")\n",
        "\n",
        "# 이후 코드는 image_files를 사용하여 진행\n",
        "# ..."
      ]
    },
    {
      "cell_type": "code",
      "execution_count": 6,
      "metadata": {
        "id": "pC7R4mqXr6ex"
      },
      "outputs": [],
      "source": [
        "#Dataset transformations are specified here\n",
        "\n",
        "IMG_SIZE = 224  # Swin Transformer input size\n",
        "\n",
        "train_transform = A.Compose([\n",
        "    A.Resize(IMG_SIZE, IMG_SIZE), # 크기변경\n",
        "    A.HorizontalFlip(p=0.5), # 좌우 뒤집기\n",
        "    A.RandomBrightnessContrast(p=0.2), # 밝기와 대비 변경\n",
        "    A.Normalize(mean=(0.5, 0.5, 0.5), std=(0.5, 0.5, 0.5)), # 정규화\n",
        "    ToTensorV2(),\n",
        "])\n",
        "\n",
        "test_transform = A.Compose([\n",
        "    A.Resize(IMG_SIZE, IMG_SIZE),\n",
        "    A.Normalize(mean=(0.5, 0.5, 0.5), std=(0.5, 0.5, 0.5)),\n",
        "    ToTensorV2(),\n",
        "])"
      ]
    },
    {
      "cell_type": "code",
      "execution_count": 7,
      "metadata": {
        "id": "KexxE7kGr_QS"
      },
      "outputs": [],
      "source": [
        "#Custom dataloader\n",
        "class CustomDataset(ImageFolder):\n",
        "    def __init__(self, root, transform=None):\n",
        "        super().__init__(root, transform=None)\n",
        "        self.transform = transform\n",
        "\n",
        "    def __getitem__(self, index):\n",
        "        path, label = self.samples[index]\n",
        "        image = Image.open(path).convert(\"RGB\")\n",
        "        image = np.array(image)\n",
        "        if self.transform:\n",
        "            image = self.transform(image=image)[\"image\"]\n",
        "        return image, label\n"
      ]
    },
    {
      "cell_type": "code",
      "execution_count": 8,
      "metadata": {
        "colab": {
          "base_uri": "https://localhost:8080/"
        },
        "id": "8Z9qKrlgsFLS",
        "outputId": "d64545d8-e850-48a9-a6dd-690c87c77616"
      },
      "outputs": [
        {
          "name": "stdout",
          "output_type": "stream",
          "text": [
            "100000\n",
            "10000\n",
            "10000\n"
          ]
        }
      ],
      "source": [
        "train_dataset = CustomDataset(root=os.path.join(dataset_base_path, 'train'), transform=train_transform)\n",
        "test_dataset = CustomDataset(root=os.path.join(dataset_base_path, 'test'), transform=test_transform)\n",
        "\n",
        "# test와 validation 데이터 분리\n",
        "fake_samples = [sample for sample in test_dataset.samples if sample[1] == test_dataset.class_to_idx['FAKE']]\n",
        "real_samples = [sample for sample in test_dataset.samples if sample[1] == test_dataset.class_to_idx['REAL']]\n",
        "# test dataset을 validation과 test로 분할 (각각 10000개) real 5000개 fake5000개\n",
        "real_validation_size = 5000\n",
        "fake_validation_size = 5000\n",
        "real_test_size = 5000\n",
        "fake_test_size  = 5000\n",
        "\n",
        "fake_validation_dataset, fake_test_dataset = random_split(fake_samples, [fake_validation_size, fake_test_size])\n",
        "real_validation_dataset, real_test_dataset = random_split(real_samples, [real_validation_size, real_test_size])\n",
        "\n",
        "# Subset을 사용하여 데이터셋 생성\n",
        "validation_samples = [fake_samples[i] for i in fake_validation_dataset.indices] + [real_samples[i] for i in real_validation_dataset.indices]\n",
        "test_samples = [fake_samples[i] for i in fake_test_dataset.indices] + [real_samples[i] for i in real_test_dataset.indices]\n",
        "\n",
        "validation_dataset = Subset(test_dataset, [test_dataset.samples.index(sample) for sample in validation_samples])\n",
        "test_dataset = Subset(test_dataset, [test_dataset.samples.index(sample) for sample in test_samples])\n",
        "\n",
        "# 빠른 테스트를 위해 1000개만 불러오기 (real과 fake데이터 비율 안맞아서 고쳐야됨)\n",
        "# indices = list(range(2000))\n",
        "# train_dataset = Subset(train_dataset, indices)\n",
        "# validation_dataset = Subset(validation_dataset, indices)\n",
        "# test_dataset = Subset(test_dataset, indices)\n",
        "\n",
        "print(len(train_dataset))\n",
        "print(len(test_dataset))\n",
        "print(len(validation_dataset))"
      ]
    },
    {
      "cell_type": "code",
      "execution_count": 9,
      "metadata": {
        "colab": {
          "base_uri": "https://localhost:8080/"
        },
        "id": "hrc9UWxBuBd2",
        "outputId": "66f363a1-e95a-467d-ab33-acbc025d7bc4"
      },
      "outputs": [],
      "source": [
        "# # 클래스별 데이터 개수 확인\n",
        "# test_labels = [sample[1] for sample in test_dataset]\n",
        "# test_class_counts = Counter(test_labels)\n",
        "# validation_labels = [sample[1] for sample in validation_dataset]\n",
        "# validation_class_counts = Counter(validation_labels)\n",
        "\n",
        "# # 클래스 이름으로 출력\n",
        "# class_names = [\"REAL\", \"FAKE\"]#train_dataset.classes\n",
        "# test_class_counts_by_name = {class_names[label]: count for label, count in test_class_counts.items()}\n",
        "# print(f\"test 데이터셋 클래스별 개수: {test_class_counts_by_name}\")\n",
        "# validation_class_counts_by_name = {class_names[label]: count for label, count in validation_class_counts.items()}\n",
        "# print(f\"Validation 데이터셋 클래스별 개수: {validation_class_counts_by_name}\")"
      ]
    },
    {
      "cell_type": "code",
      "execution_count": 10,
      "metadata": {
        "id": "nUyjtztushgi"
      },
      "outputs": [],
      "source": [
        "#이미지 메모리 제한 해제\n",
        "Image.MAX_IMAGE_PIXELS = None"
      ]
    },
    {
      "cell_type": "code",
      "execution_count": 11,
      "metadata": {
        "colab": {
          "base_uri": "https://localhost:8080/"
        },
        "id": "PUOvwfP3sn63",
        "outputId": "fc65625e-999a-4411-ddd8-100abe87b7af"
      },
      "outputs": [
        {
          "name": "stdout",
          "output_type": "stream",
          "text": [
            "cuda\n"
          ]
        }
      ],
      "source": [
        "class SwinClassifier(nn.Module):\n",
        "    def __init__(self, num_classes=2):\n",
        "        super(SwinClassifier, self).__init__()\n",
        "        self.model = timm.create_model('swin_tiny_patch4_window7_224', pretrained=False, num_classes=num_classes)\n",
        "\n",
        "    def forward(self, x):\n",
        "        return self.model(x)\n",
        "\n",
        "# cuda check\n",
        "device = torch.device(\"cuda\" if torch.cuda.is_available() else \"cpu\")\n",
        "print(device)"
      ]
    },
    {
      "cell_type": "code",
      "execution_count": 12,
      "metadata": {},
      "outputs": [],
      "source": [
        "ImageFile.LOAD_TRUNCATED_IMAGES = True  # Allow loading truncated images\n",
        "\n",
        "# Assume these variables are already defined:\n",
        "# - train_dataset: your training dataset\n",
        "# - test_dataset: your validation/test dataset\n",
        "# - SwinClassifier: your model definition\n",
        "\n",
        "# Set DataLoader parameters; using num_workers=0 for TPU stability\n",
        "BATCH_SIZE = 32\n",
        "train_loader = DataLoader(train_dataset, batch_size=BATCH_SIZE, shuffle=True, num_workers=0)\n",
        "val_loader = DataLoader(validation_dataset, batch_size=BATCH_SIZE, shuffle=False, num_workers=0)\n",
        "\n",
        "# Training hyperparameters\n",
        "EPOCHS = 50 #에포크 10\n",
        "PATIENCE = 100\n",
        "\n",
        "# Define your model, loss, optimizer, and scheduler\n",
        "model = SwinClassifier(num_classes=2).to(device)\n",
        "criterion = nn.CrossEntropyLoss()\n",
        "optimizer = optim.AdamW(model.parameters(), lr=0.01, weight_decay=1e-4)\n",
        "scheduler = optim.lr_scheduler.CosineAnnealingLR(optimizer, T_max=EPOCHS, eta_min=1e-6)"
      ]
    },
    {
      "cell_type": "code",
      "execution_count": 13,
      "metadata": {},
      "outputs": [
        {
          "name": "stderr",
          "output_type": "stream",
          "text": [
            "c:\\Users\\qwer\\Desktop\\deepfake\\.conda\\Lib\\site-packages\\torch\\__init__.py:2132: TracerWarning: Converting a tensor to a Python boolean might cause the trace to be incorrect. We can't record the data flow of Python values, so this value will be treated as a constant in the future. This means that the trace might not generalize to other inputs!\n",
            "  assert condition, message\n"
          ]
        },
        {
          "data": {
            "image/png": "[encoded data removed]",
            "text/plain": [
              "<Figure size 640x480 with 1 Axes>"
            ]
          },
          "metadata": {},
          "output_type": "display_data"
        }
      ],
      "source": [
        "writer = SummaryWriter()\n",
        "def matplotlib_imshow(img, one_channel=False):\n",
        "    if one_channel:\n",
        "        img = img.mean(dim=0)\n",
        "    img = img / 2 + 0.5     # unnormalize\n",
        "    npimg = img.numpy()\n",
        "    if one_channel:\n",
        "        plt.imshow(npimg, cmap=\"Greys\")\n",
        "    else:\n",
        "        plt.imshow(np.transpose(npimg, (1, 2, 0)))\n",
        "\n",
        "# 임의의 학습 이미지를 가져옵니다\n",
        "dataiter = iter(train_loader)\n",
        "images, labels = next(dataiter)\n",
        "\n",
        "# 이미지 그리드를 만듭니다.\n",
        "img_grid = torchvision.utils.make_grid(images)\n",
        "\n",
        "# 이미지를 보여줍니다.\n",
        "matplotlib_imshow(img_grid, one_channel=True)\n",
        "\n",
        "# tensorboard에 기록합니다.\n",
        "writer.add_image('images', img_grid)\n",
        "\n",
        "writer.add_graph(model.to(\"cpu\"), images)"
      ]
    },
    {
      "cell_type": "code",
      "execution_count": 14,
      "metadata": {},
      "outputs": [],
      "source": [
        "def images_to_probs(net, images):\n",
        "    '''\n",
        "    학습된 신경망과 이미지 목록으로부터 예측 결과 및 확률을 생성합니다\n",
        "    '''\n",
        "    output = net(images).to(\"cpu\")\n",
        "    # convert output probabilities to predicted class\n",
        "    _, preds_tensor = torch.max(output, 1)\n",
        "    preds = np.squeeze(preds_tensor.numpy())\n",
        "    return preds, [F.softmax(el, dim=0)[i].item() for i, el in zip(preds, output)]\n",
        "\n",
        "\n",
        "def plot_classes_preds(net, images, labels):\n",
        "    '''\n",
        "    학습된 신경망과 배치로부터 가져온 이미지 / 라벨을 사용하여 matplotlib\n",
        "    Figure를 생성합니다. 이는 신경망의 예측 결과 / 확률과 함께 정답을 보여주며,\n",
        "    예측 결과가 맞았는지 여부에 따라 색을 다르게 표시합니다. \"images_to_probs\"\n",
        "    함수를 사용합니다.\n",
        "    '''\n",
        "    preds, probs = images_to_probs(net, images)\n",
        "    # 배치에서 이미지를 가져와 예측 결과 / 정답과 함께 표시(plot)합니다\n",
        "    fig = plt.figure(figsize=(12, 48))\n",
        "    for idx in np.arange(4):\n",
        "        ax = fig.add_subplot(1, 4, idx+1, xticks=[], yticks=[])\n",
        "        matplotlib_imshow(images[idx].to(\"cpu\"), one_channel=True)\n",
        "        ax.set_title(\"{0}, {1:.1f}%\\n(label: {2})\".format(\n",
        "            train_dataset.classes[preds[idx]],\n",
        "            probs[idx] * 100.0,\n",
        "            train_dataset.classes[labels[idx]]),\n",
        "                    color=(\"green\" if preds[idx]==labels[idx].item() else \"red\"))\n",
        "    return fig"
      ]
    },
    {
      "cell_type": "code",
      "execution_count": 15,
      "metadata": {
        "colab": {
          "base_uri": "https://localhost:8080/",
          "height": 1000,
          "referenced_widgets": [
            "d8bb831ac4aa497698a0ef2352643a67",
            "4acd902418e14337b572891c67911f16",
            "75afa36b7bdc48468c3d5474d6aaeb4e",
            "a8a700745e204885ae1ea0b1bf47fc60",
            "4e23253ac2e945179234a57c96f0bb39",
            "28e797390e094c7cabeee6e4cb8ff627",
            "9d23ea5cbbdf4d31a0f799b3b0db0df0",
            "0680bfe0f11143638f8b42fa475e91fb",
            "9ffa8b6ce8a7448bba1360896784a72e",
            "9368ab38055d48e5b5729520c272fcce",
            "a8eaca28642c45edba54feaa4018963d"
          ]
        },
        "id": "nrhblCUftttS",
        "outputId": "560f44a9-2c11-4019-8755-fa32792ea7a5"
      },
      "outputs": [
        {
          "data": {
            "application/vnd.jupyter.widget-view+json": {
              "model_id": "a4ea872e045143cf8e1529f31c47f206",
              "version_major": 2,
              "version_minor": 0
            },
            "text/plain": [
              "Epoch 1/50 Training:   0%|          | 0/3125 [00:00<?, ?it/s]"
            ]
          },
          "metadata": {},
          "output_type": "display_data"
        },
        {
          "data": {
            "application/vnd.jupyter.widget-view+json": {
              "model_id": "fe5075a2c3a8407ba981b7253aabf16e",
              "version_major": 2,
              "version_minor": 0
            },
            "text/plain": [
              "Epoch 1/50 Validation:   0%|          | 0/313 [00:00<?, ?it/s]"
            ]
          },
          "metadata": {},
          "output_type": "display_data"
        },
        {
          "name": "stdout",
          "output_type": "stream",
          "text": [
            "Epoch 1/50 - Train Loss: 0.7134, Train Acc: 0.4987 | Val Loss: 0.6933, Val Acc: 0.5000\n"
          ]
        },
        {
          "data": {
            "application/vnd.jupyter.widget-view+json": {
              "model_id": "2b16256906ee445c87e0a1700af4abb7",
              "version_major": 2,
              "version_minor": 0
            },
            "text/plain": [
              "Epoch 2/50 Training:   0%|          | 0/3125 [00:00<?, ?it/s]"
            ]
          },
          "metadata": {},
          "output_type": "display_data"
        },
        {
          "data": {
            "application/vnd.jupyter.widget-view+json": {
              "model_id": "496dd5282e6f4007aaa30b2808aa29f5",
              "version_major": 2,
              "version_minor": 0
            },
            "text/plain": [
              "Epoch 2/50 Validation:   0%|          | 0/313 [00:00<?, ?it/s]"
            ]
          },
          "metadata": {},
          "output_type": "display_data"
        },
        {
          "name": "stdout",
          "output_type": "stream",
          "text": [
            "Epoch 2/50 - Train Loss: 0.6963, Train Acc: 0.4992 | Val Loss: 0.6940, Val Acc: 0.5000\n"
          ]
        },
        {
          "data": {
            "application/vnd.jupyter.widget-view+json": {
              "model_id": "256dd4224af24b51acb8ef09bf3735cb",
              "version_major": 2,
              "version_minor": 0
            },
            "text/plain": [
              "Epoch 3/50 Training:   0%|          | 0/3125 [00:00<?, ?it/s]"
            ]
          },
          "metadata": {},
          "output_type": "display_data"
        },
        {
          "data": {
            "application/vnd.jupyter.widget-view+json": {
              "model_id": "5db48dde6b564ae5925549bb19597665",
              "version_major": 2,
              "version_minor": 0
            },
            "text/plain": [
              "Epoch 3/50 Validation:   0%|          | 0/313 [00:00<?, ?it/s]"
            ]
          },
          "metadata": {},
          "output_type": "display_data"
        },
        {
          "name": "stdout",
          "output_type": "stream",
          "text": [
            "Epoch 3/50 - Train Loss: 0.6970, Train Acc: 0.5006 | Val Loss: 0.6939, Val Acc: 0.5000\n"
          ]
        },
        {
          "data": {
            "application/vnd.jupyter.widget-view+json": {
              "model_id": "033a5a379f2d4ca09c8adb89b21d51a9",
              "version_major": 2,
              "version_minor": 0
            },
            "text/plain": [
              "Epoch 4/50 Training:   0%|          | 0/3125 [00:00<?, ?it/s]"
            ]
          },
          "metadata": {},
          "output_type": "display_data"
        },
        {
          "data": {
            "application/vnd.jupyter.widget-view+json": {
              "model_id": "3c0878140ac0476897c8fa2fdd63c911",
              "version_major": 2,
              "version_minor": 0
            },
            "text/plain": [
              "Epoch 4/50 Validation:   0%|          | 0/313 [00:00<?, ?it/s]"
            ]
          },
          "metadata": {},
          "output_type": "display_data"
        },
        {
          "name": "stdout",
          "output_type": "stream",
          "text": [
            "Epoch 4/50 - Train Loss: 0.6980, Train Acc: 0.5007 | Val Loss: 0.7192, Val Acc: 0.5000\n"
          ]
        },
        {
          "data": {
            "application/vnd.jupyter.widget-view+json": {
              "model_id": "d6d924e201be41d6b24ae08658e9583c",
              "version_major": 2,
              "version_minor": 0
            },
            "text/plain": [
              "Epoch 5/50 Training:   0%|          | 0/3125 [00:00<?, ?it/s]"
            ]
          },
          "metadata": {},
          "output_type": "display_data"
        },
        {
          "data": {
            "application/vnd.jupyter.widget-view+json": {
              "model_id": "d2a27b9105da4641abc70108d6e3d0d0",
              "version_major": 2,
              "version_minor": 0
            },
            "text/plain": [
              "Epoch 5/50 Validation:   0%|          | 0/313 [00:00<?, ?it/s]"
            ]
          },
          "metadata": {},
          "output_type": "display_data"
        },
        {
          "name": "stdout",
          "output_type": "stream",
          "text": [
            "Epoch 5/50 - Train Loss: 0.6979, Train Acc: 0.4990 | Val Loss: 0.6964, Val Acc: 0.5000\n"
          ]
        },
        {
          "data": {
            "application/vnd.jupyter.widget-view+json": {
              "model_id": "7f7124e7fcc6409cacc91264d8d24d98",
              "version_major": 2,
              "version_minor": 0
            },
            "text/plain": [
              "Epoch 6/50 Training:   0%|          | 0/3125 [00:00<?, ?it/s]"
            ]
          },
          "metadata": {},
          "output_type": "display_data"
        },
        {
          "data": {
            "application/vnd.jupyter.widget-view+json": {
              "model_id": "7c1403a5752245d594d86b05f96cf115",
              "version_major": 2,
              "version_minor": 0
            },
            "text/plain": [
              "Epoch 6/50 Validation:   0%|          | 0/313 [00:00<?, ?it/s]"
            ]
          },
          "metadata": {},
          "output_type": "display_data"
        },
        {
          "name": "stdout",
          "output_type": "stream",
          "text": [
            "Epoch 6/50 - Train Loss: 0.6972, Train Acc: 0.5002 | Val Loss: 0.6951, Val Acc: 0.5000\n"
          ]
        },
        {
          "data": {
            "application/vnd.jupyter.widget-view+json": {
              "model_id": "35440d8a6bb74da98ef93c0789aab49d",
              "version_major": 2,
              "version_minor": 0
            },
            "text/plain": [
              "Epoch 7/50 Training:   0%|          | 0/3125 [00:00<?, ?it/s]"
            ]
          },
          "metadata": {},
          "output_type": "display_data"
        },
        {
          "data": {
            "application/vnd.jupyter.widget-view+json": {
              "model_id": "01d16bd53eb54a5c8c05170d796145d5",
              "version_major": 2,
              "version_minor": 0
            },
            "text/plain": [
              "Epoch 7/50 Validation:   0%|          | 0/313 [00:00<?, ?it/s]"
            ]
          },
          "metadata": {},
          "output_type": "display_data"
        },
        {
          "name": "stdout",
          "output_type": "stream",
          "text": [
            "Epoch 7/50 - Train Loss: 0.6968, Train Acc: 0.5014 | Val Loss: 0.6944, Val Acc: 0.5000\n"
          ]
        },
        {
          "data": {
            "application/vnd.jupyter.widget-view+json": {
              "model_id": "77df690761bd4e7b9119321a2af8436a",
              "version_major": 2,
              "version_minor": 0
            },
            "text/plain": [
              "Epoch 8/50 Training:   0%|          | 0/3125 [00:00<?, ?it/s]"
            ]
          },
          "metadata": {},
          "output_type": "display_data"
        },
        {
          "data": {
            "application/vnd.jupyter.widget-view+json": {
              "model_id": "5f0359aa7cfe46e2ada679ab403b4362",
              "version_major": 2,
              "version_minor": 0
            },
            "text/plain": [
              "Epoch 8/50 Validation:   0%|          | 0/313 [00:00<?, ?it/s]"
            ]
          },
          "metadata": {},
          "output_type": "display_data"
        },
        {
          "name": "stdout",
          "output_type": "stream",
          "text": [
            "Epoch 8/50 - Train Loss: 0.6970, Train Acc: 0.5001 | Val Loss: 0.6933, Val Acc: 0.5000\n"
          ]
        },
        {
          "data": {
            "application/vnd.jupyter.widget-view+json": {
              "model_id": "56cb5b0584b24042b386252a7e94ca18",
              "version_major": 2,
              "version_minor": 0
            },
            "text/plain": [
              "Epoch 9/50 Training:   0%|          | 0/3125 [00:00<?, ?it/s]"
            ]
          },
          "metadata": {},
          "output_type": "display_data"
        },
        {
          "data": {
            "application/vnd.jupyter.widget-view+json": {
              "model_id": "479d46bc34e44ce4bbf949710b76f6f4",
              "version_major": 2,
              "version_minor": 0
            },
            "text/plain": [
              "Epoch 9/50 Validation:   0%|          | 0/313 [00:00<?, ?it/s]"
            ]
          },
          "metadata": {},
          "output_type": "display_data"
        },
        {
          "name": "stdout",
          "output_type": "stream",
          "text": [
            "Epoch 9/50 - Train Loss: 0.6970, Train Acc: 0.5023 | Val Loss: 0.6946, Val Acc: 0.5000\n"
          ]
        },
        {
          "data": {
            "application/vnd.jupyter.widget-view+json": {
              "model_id": "f7a29d79029d4d0f80154d0ac4574740",
              "version_major": 2,
              "version_minor": 0
            },
            "text/plain": [
              "Epoch 10/50 Training:   0%|          | 0/3125 [00:00<?, ?it/s]"
            ]
          },
          "metadata": {},
          "output_type": "display_data"
        },
        {
          "data": {
            "application/vnd.jupyter.widget-view+json": {
              "model_id": "da4834341edf40588bc0ea40d7f17daf",
              "version_major": 2,
              "version_minor": 0
            },
            "text/plain": [
              "Epoch 10/50 Validation:   0%|          | 0/313 [00:00<?, ?it/s]"
            ]
          },
          "metadata": {},
          "output_type": "display_data"
        },
        {
          "name": "stdout",
          "output_type": "stream",
          "text": [
            "Epoch 10/50 - Train Loss: 0.6965, Train Acc: 0.5017 | Val Loss: 0.6932, Val Acc: 0.5000\n"
          ]
        },
        {
          "data": {
            "application/vnd.jupyter.widget-view+json": {
              "model_id": "b7fca33da9304ebeb9bc63abd4e778ca",
              "version_major": 2,
              "version_minor": 0
            },
            "text/plain": [
              "Epoch 11/50 Training:   0%|          | 0/3125 [00:00<?, ?it/s]"
            ]
          },
          "metadata": {},
          "output_type": "display_data"
        },
        {
          "data": {
            "application/vnd.jupyter.widget-view+json": {
              "model_id": "27c33cc26d484877ad6221b2a3ce9de7",
              "version_major": 2,
              "version_minor": 0
            },
            "text/plain": [
              "Epoch 11/50 Validation:   0%|          | 0/313 [00:00<?, ?it/s]"
            ]
          },
          "metadata": {},
          "output_type": "display_data"
        },
        {
          "name": "stdout",
          "output_type": "stream",
          "text": [
            "Epoch 11/50 - Train Loss: 0.6975, Train Acc: 0.5024 | Val Loss: 0.6952, Val Acc: 0.5000\n"
          ]
        },
        {
          "data": {
            "application/vnd.jupyter.widget-view+json": {
              "model_id": "f5fdb021d8c949398c2111babead8551",
              "version_major": 2,
              "version_minor": 0
            },
            "text/plain": [
              "Epoch 12/50 Training:   0%|          | 0/3125 [00:00<?, ?it/s]"
            ]
          },
          "metadata": {},
          "output_type": "display_data"
        },
        {
          "data": {
            "application/vnd.jupyter.widget-view+json": {
              "model_id": "f5f0fd6fdc5348829ac4fb5ea028a538",
              "version_major": 2,
              "version_minor": 0
            },
            "text/plain": [
              "Epoch 12/50 Validation:   0%|          | 0/313 [00:00<?, ?it/s]"
            ]
          },
          "metadata": {},
          "output_type": "display_data"
        },
        {
          "name": "stdout",
          "output_type": "stream",
          "text": [
            "Epoch 12/50 - Train Loss: 0.6960, Train Acc: 0.5003 | Val Loss: 0.6948, Val Acc: 0.5000\n"
          ]
        },
        {
          "data": {
            "application/vnd.jupyter.widget-view+json": {
              "model_id": "fc912931925745d7927a13fc122d3413",
              "version_major": 2,
              "version_minor": 0
            },
            "text/plain": [
              "Epoch 13/50 Training:   0%|          | 0/3125 [00:00<?, ?it/s]"
            ]
          },
          "metadata": {},
          "output_type": "display_data"
        },
        {
          "data": {
            "application/vnd.jupyter.widget-view+json": {
              "model_id": "e79a2485f0c243a99215043358e66ec6",
              "version_major": 2,
              "version_minor": 0
            },
            "text/plain": [
              "Epoch 13/50 Validation:   0%|          | 0/313 [00:00<?, ?it/s]"
            ]
          },
          "metadata": {},
          "output_type": "display_data"
        },
        {
          "name": "stdout",
          "output_type": "stream",
          "text": [
            "Epoch 13/50 - Train Loss: 0.6966, Train Acc: 0.5049 | Val Loss: 0.7006, Val Acc: 0.5000\n"
          ]
        },
        {
          "data": {
            "application/vnd.jupyter.widget-view+json": {
              "model_id": "ec3158b191bc4c42aa8b3b85e127b7ae",
              "version_major": 2,
              "version_minor": 0
            },
            "text/plain": [
              "Epoch 14/50 Training:   0%|          | 0/3125 [00:00<?, ?it/s]"
            ]
          },
          "metadata": {},
          "output_type": "display_data"
        },
        {
          "data": {
            "application/vnd.jupyter.widget-view+json": {
              "model_id": "ded8b644bbec4d62a4bc40e3e0b17987",
              "version_major": 2,
              "version_minor": 0
            },
            "text/plain": [
              "Epoch 14/50 Validation:   0%|          | 0/313 [00:00<?, ?it/s]"
            ]
          },
          "metadata": {},
          "output_type": "display_data"
        },
        {
          "name": "stdout",
          "output_type": "stream",
          "text": [
            "Epoch 14/50 - Train Loss: 0.6962, Train Acc: 0.4990 | Val Loss: 0.6957, Val Acc: 0.5000\n"
          ]
        },
        {
          "data": {
            "application/vnd.jupyter.widget-view+json": {
              "model_id": "e2f280a4316d47e99bb95268a3d9d4a7",
              "version_major": 2,
              "version_minor": 0
            },
            "text/plain": [
              "Epoch 15/50 Training:   0%|          | 0/3125 [00:00<?, ?it/s]"
            ]
          },
          "metadata": {},
          "output_type": "display_data"
        },
        {
          "data": {
            "application/vnd.jupyter.widget-view+json": {
              "model_id": "06d72e6897814d778def942017c2eccd",
              "version_major": 2,
              "version_minor": 0
            },
            "text/plain": [
              "Epoch 15/50 Validation:   0%|          | 0/313 [00:00<?, ?it/s]"
            ]
          },
          "metadata": {},
          "output_type": "display_data"
        },
        {
          "name": "stdout",
          "output_type": "stream",
          "text": [
            "Epoch 15/50 - Train Loss: 0.6962, Train Acc: 0.5000 | Val Loss: 0.6947, Val Acc: 0.5000\n"
          ]
        },
        {
          "data": {
            "application/vnd.jupyter.widget-view+json": {
              "model_id": "73c203ff1ee949b283ba79bcf64c121a",
              "version_major": 2,
              "version_minor": 0
            },
            "text/plain": [
              "Epoch 16/50 Training:   0%|          | 0/3125 [00:00<?, ?it/s]"
            ]
          },
          "metadata": {},
          "output_type": "display_data"
        },
        {
          "data": {
            "application/vnd.jupyter.widget-view+json": {
              "model_id": "ec130158d86e4cdda4402985ec8bc84e",
              "version_major": 2,
              "version_minor": 0
            },
            "text/plain": [
              "Epoch 16/50 Validation:   0%|          | 0/313 [00:00<?, ?it/s]"
            ]
          },
          "metadata": {},
          "output_type": "display_data"
        },
        {
          "name": "stdout",
          "output_type": "stream",
          "text": [
            "Epoch 16/50 - Train Loss: 0.6963, Train Acc: 0.5010 | Val Loss: 0.6933, Val Acc: 0.5000\n"
          ]
        },
        {
          "data": {
            "application/vnd.jupyter.widget-view+json": {
              "model_id": "84da261fbb7440d7baa7242a94e5ac54",
              "version_major": 2,
              "version_minor": 0
            },
            "text/plain": [
              "Epoch 17/50 Training:   0%|          | 0/3125 [00:00<?, ?it/s]"
            ]
          },
          "metadata": {},
          "output_type": "display_data"
        },
        {
          "data": {
            "application/vnd.jupyter.widget-view+json": {
              "model_id": "e8caffcac2e64ac6a45ec91c193ff8f5",
              "version_major": 2,
              "version_minor": 0
            },
            "text/plain": [
              "Epoch 17/50 Validation:   0%|          | 0/313 [00:00<?, ?it/s]"
            ]
          },
          "metadata": {},
          "output_type": "display_data"
        },
        {
          "name": "stdout",
          "output_type": "stream",
          "text": [
            "Epoch 17/50 - Train Loss: 0.6958, Train Acc: 0.4979 | Val Loss: 0.6931, Val Acc: 0.5000\n"
          ]
        },
        {
          "data": {
            "application/vnd.jupyter.widget-view+json": {
              "model_id": "0ef3620365ec448d8c20c69d60392645",
              "version_major": 2,
              "version_minor": 0
            },
            "text/plain": [
              "Epoch 18/50 Training:   0%|          | 0/3125 [00:00<?, ?it/s]"
            ]
          },
          "metadata": {},
          "output_type": "display_data"
        },
        {
          "data": {
            "application/vnd.jupyter.widget-view+json": {
              "model_id": "a19033f6dc0d436e85d67121a1c90c4a",
              "version_major": 2,
              "version_minor": 0
            },
            "text/plain": [
              "Epoch 18/50 Validation:   0%|          | 0/313 [00:00<?, ?it/s]"
            ]
          },
          "metadata": {},
          "output_type": "display_data"
        },
        {
          "name": "stdout",
          "output_type": "stream",
          "text": [
            "Epoch 18/50 - Train Loss: 0.6954, Train Acc: 0.5000 | Val Loss: 0.6932, Val Acc: 0.5000\n"
          ]
        },
        {
          "data": {
            "application/vnd.jupyter.widget-view+json": {
              "model_id": "82b973ad479e43a8a88b591721702811",
              "version_major": 2,
              "version_minor": 0
            },
            "text/plain": [
              "Epoch 19/50 Training:   0%|          | 0/3125 [00:00<?, ?it/s]"
            ]
          },
          "metadata": {},
          "output_type": "display_data"
        },
        {
          "data": {
            "application/vnd.jupyter.widget-view+json": {
              "model_id": "34cf3f54d0ac41489e20c0a39f682bb8",
              "version_major": 2,
              "version_minor": 0
            },
            "text/plain": [
              "Epoch 19/50 Validation:   0%|          | 0/313 [00:00<?, ?it/s]"
            ]
          },
          "metadata": {},
          "output_type": "display_data"
        },
        {
          "name": "stdout",
          "output_type": "stream",
          "text": [
            "Epoch 19/50 - Train Loss: 0.6959, Train Acc: 0.5000 | Val Loss: 0.6931, Val Acc: 0.5000\n"
          ]
        },
        {
          "data": {
            "application/vnd.jupyter.widget-view+json": {
              "model_id": "253ddb1f55184b0fb48e02b9ca4c6b48",
              "version_major": 2,
              "version_minor": 0
            },
            "text/plain": [
              "Epoch 20/50 Training:   0%|          | 0/3125 [00:00<?, ?it/s]"
            ]
          },
          "metadata": {},
          "output_type": "display_data"
        },
        {
          "data": {
            "application/vnd.jupyter.widget-view+json": {
              "model_id": "cacc5d01e43244d392978e4d6041cc61",
              "version_major": 2,
              "version_minor": 0
            },
            "text/plain": [
              "Epoch 20/50 Validation:   0%|          | 0/313 [00:00<?, ?it/s]"
            ]
          },
          "metadata": {},
          "output_type": "display_data"
        },
        {
          "name": "stdout",
          "output_type": "stream",
          "text": [
            "Epoch 20/50 - Train Loss: 0.6951, Train Acc: 0.5003 | Val Loss: 0.6965, Val Acc: 0.5000\n"
          ]
        },
        {
          "data": {
            "application/vnd.jupyter.widget-view+json": {
              "model_id": "d2f9e4d2e7e44134a608933645f38138",
              "version_major": 2,
              "version_minor": 0
            },
            "text/plain": [
              "Epoch 21/50 Training:   0%|          | 0/3125 [00:00<?, ?it/s]"
            ]
          },
          "metadata": {},
          "output_type": "display_data"
        },
        {
          "data": {
            "application/vnd.jupyter.widget-view+json": {
              "model_id": "030b2d42b92642e8b0033490093fd4bd",
              "version_major": 2,
              "version_minor": 0
            },
            "text/plain": [
              "Epoch 21/50 Validation:   0%|          | 0/313 [00:00<?, ?it/s]"
            ]
          },
          "metadata": {},
          "output_type": "display_data"
        },
        {
          "name": "stdout",
          "output_type": "stream",
          "text": [
            "Epoch 21/50 - Train Loss: 0.6951, Train Acc: 0.5010 | Val Loss: 0.6935, Val Acc: 0.5000\n"
          ]
        },
        {
          "data": {
            "application/vnd.jupyter.widget-view+json": {
              "model_id": "6458c9b6601c4baa9b906717eb53bf5c",
              "version_major": 2,
              "version_minor": 0
            },
            "text/plain": [
              "Epoch 22/50 Training:   0%|          | 0/3125 [00:00<?, ?it/s]"
            ]
          },
          "metadata": {},
          "output_type": "display_data"
        },
        {
          "data": {
            "application/vnd.jupyter.widget-view+json": {
              "model_id": "b8586d866bcd4951ba2ee2953f34d6c8",
              "version_major": 2,
              "version_minor": 0
            },
            "text/plain": [
              "Epoch 22/50 Validation:   0%|          | 0/313 [00:00<?, ?it/s]"
            ]
          },
          "metadata": {},
          "output_type": "display_data"
        },
        {
          "name": "stdout",
          "output_type": "stream",
          "text": [
            "Epoch 22/50 - Train Loss: 0.6953, Train Acc: 0.5003 | Val Loss: 0.6933, Val Acc: 0.5000\n"
          ]
        },
        {
          "data": {
            "application/vnd.jupyter.widget-view+json": {
              "model_id": "50a7f139e6c64bb48cfcde6dca118586",
              "version_major": 2,
              "version_minor": 0
            },
            "text/plain": [
              "Epoch 23/50 Training:   0%|          | 0/3125 [00:00<?, ?it/s]"
            ]
          },
          "metadata": {},
          "output_type": "display_data"
        },
        {
          "data": {
            "application/vnd.jupyter.widget-view+json": {
              "model_id": "7966d5f9ab4b4fa7810d12c70088e1cd",
              "version_major": 2,
              "version_minor": 0
            },
            "text/plain": [
              "Epoch 23/50 Validation:   0%|          | 0/313 [00:00<?, ?it/s]"
            ]
          },
          "metadata": {},
          "output_type": "display_data"
        },
        {
          "name": "stdout",
          "output_type": "stream",
          "text": [
            "Epoch 23/50 - Train Loss: 0.6951, Train Acc: 0.4972 | Val Loss: 0.6933, Val Acc: 0.5000\n"
          ]
        },
        {
          "data": {
            "application/vnd.jupyter.widget-view+json": {
              "model_id": "d5816d4cd8d24630814218c9bd6e11f2",
              "version_major": 2,
              "version_minor": 0
            },
            "text/plain": [
              "Epoch 24/50 Training:   0%|          | 0/3125 [00:00<?, ?it/s]"
            ]
          },
          "metadata": {},
          "output_type": "display_data"
        },
        {
          "data": {
            "application/vnd.jupyter.widget-view+json": {
              "model_id": "eb95743e6e0e4bc1854d615b4e737ce3",
              "version_major": 2,
              "version_minor": 0
            },
            "text/plain": [
              "Epoch 24/50 Validation:   0%|          | 0/313 [00:00<?, ?it/s]"
            ]
          },
          "metadata": {},
          "output_type": "display_data"
        },
        {
          "name": "stdout",
          "output_type": "stream",
          "text": [
            "Epoch 24/50 - Train Loss: 0.6949, Train Acc: 0.4976 | Val Loss: 0.6932, Val Acc: 0.5000\n"
          ]
        },
        {
          "data": {
            "application/vnd.jupyter.widget-view+json": {
              "model_id": "e2bc67d63d804dfba28fe78964e090f8",
              "version_major": 2,
              "version_minor": 0
            },
            "text/plain": [
              "Epoch 25/50 Training:   0%|          | 0/3125 [00:00<?, ?it/s]"
            ]
          },
          "metadata": {},
          "output_type": "display_data"
        },
        {
          "data": {
            "application/vnd.jupyter.widget-view+json": {
              "model_id": "7d14f6b0c6b64c46b0ccaffce234d35d",
              "version_major": 2,
              "version_minor": 0
            },
            "text/plain": [
              "Epoch 25/50 Validation:   0%|          | 0/313 [00:00<?, ?it/s]"
            ]
          },
          "metadata": {},
          "output_type": "display_data"
        },
        {
          "name": "stdout",
          "output_type": "stream",
          "text": [
            "Epoch 25/50 - Train Loss: 0.6952, Train Acc: 0.5008 | Val Loss: 0.6932, Val Acc: 0.5000\n"
          ]
        },
        {
          "data": {
            "application/vnd.jupyter.widget-view+json": {
              "model_id": "38923fdfb1de4b699c0d7bc866d5858b",
              "version_major": 2,
              "version_minor": 0
            },
            "text/plain": [
              "Epoch 26/50 Training:   0%|          | 0/3125 [00:00<?, ?it/s]"
            ]
          },
          "metadata": {},
          "output_type": "display_data"
        },
        {
          "data": {
            "application/vnd.jupyter.widget-view+json": {
              "model_id": "dfcbfef5e9134702894f689d6fb4eca0",
              "version_major": 2,
              "version_minor": 0
            },
            "text/plain": [
              "Epoch 26/50 Validation:   0%|          | 0/313 [00:00<?, ?it/s]"
            ]
          },
          "metadata": {},
          "output_type": "display_data"
        },
        {
          "name": "stdout",
          "output_type": "stream",
          "text": [
            "Epoch 26/50 - Train Loss: 0.6944, Train Acc: 0.5005 | Val Loss: 0.6933, Val Acc: 0.5000\n"
          ]
        },
        {
          "data": {
            "application/vnd.jupyter.widget-view+json": {
              "model_id": "f5c0074278d341fd9255c20170ae6321",
              "version_major": 2,
              "version_minor": 0
            },
            "text/plain": [
              "Epoch 27/50 Training:   0%|          | 0/3125 [00:00<?, ?it/s]"
            ]
          },
          "metadata": {},
          "output_type": "display_data"
        },
        {
          "data": {
            "application/vnd.jupyter.widget-view+json": {
              "model_id": "f7561e3612004a5f9019a66cd3269939",
              "version_major": 2,
              "version_minor": 0
            },
            "text/plain": [
              "Epoch 27/50 Validation:   0%|          | 0/313 [00:00<?, ?it/s]"
            ]
          },
          "metadata": {},
          "output_type": "display_data"
        },
        {
          "name": "stdout",
          "output_type": "stream",
          "text": [
            "Epoch 27/50 - Train Loss: 0.6947, Train Acc: 0.4966 | Val Loss: 0.6935, Val Acc: 0.5000\n"
          ]
        },
        {
          "data": {
            "application/vnd.jupyter.widget-view+json": {
              "model_id": "986d86a6f1c0496aa1395a02f04f994a",
              "version_major": 2,
              "version_minor": 0
            },
            "text/plain": [
              "Epoch 28/50 Training:   0%|          | 0/3125 [00:00<?, ?it/s]"
            ]
          },
          "metadata": {},
          "output_type": "display_data"
        },
        {
          "data": {
            "application/vnd.jupyter.widget-view+json": {
              "model_id": "15748f71de4e4d989a6789d3cf9f8294",
              "version_major": 2,
              "version_minor": 0
            },
            "text/plain": [
              "Epoch 28/50 Validation:   0%|          | 0/313 [00:00<?, ?it/s]"
            ]
          },
          "metadata": {},
          "output_type": "display_data"
        },
        {
          "name": "stdout",
          "output_type": "stream",
          "text": [
            "Epoch 28/50 - Train Loss: 0.6943, Train Acc: 0.5035 | Val Loss: 0.6932, Val Acc: 0.5000\n"
          ]
        },
        {
          "data": {
            "application/vnd.jupyter.widget-view+json": {
              "model_id": "c5a7fc8a15334c8f8b72c3d6edc85356",
              "version_major": 2,
              "version_minor": 0
            },
            "text/plain": [
              "Epoch 29/50 Training:   0%|          | 0/3125 [00:00<?, ?it/s]"
            ]
          },
          "metadata": {},
          "output_type": "display_data"
        },
        {
          "data": {
            "application/vnd.jupyter.widget-view+json": {
              "model_id": "9cd15a29e6474e2bacffc765d359a686",
              "version_major": 2,
              "version_minor": 0
            },
            "text/plain": [
              "Epoch 29/50 Validation:   0%|          | 0/313 [00:00<?, ?it/s]"
            ]
          },
          "metadata": {},
          "output_type": "display_data"
        },
        {
          "name": "stdout",
          "output_type": "stream",
          "text": [
            "Epoch 29/50 - Train Loss: 0.6940, Train Acc: 0.4995 | Val Loss: 0.6984, Val Acc: 0.5000\n"
          ]
        },
        {
          "data": {
            "application/vnd.jupyter.widget-view+json": {
              "model_id": "9c8f8a5305d04803a6e662032e1bf33e",
              "version_major": 2,
              "version_minor": 0
            },
            "text/plain": [
              "Epoch 30/50 Training:   0%|          | 0/3125 [00:00<?, ?it/s]"
            ]
          },
          "metadata": {},
          "output_type": "display_data"
        },
        {
          "data": {
            "application/vnd.jupyter.widget-view+json": {
              "model_id": "20eb817e6a114e7f8111889dfc896157",
              "version_major": 2,
              "version_minor": 0
            },
            "text/plain": [
              "Epoch 30/50 Validation:   0%|          | 0/313 [00:00<?, ?it/s]"
            ]
          },
          "metadata": {},
          "output_type": "display_data"
        },
        {
          "name": "stdout",
          "output_type": "stream",
          "text": [
            "Epoch 30/50 - Train Loss: 0.6940, Train Acc: 0.5011 | Val Loss: 0.6932, Val Acc: 0.5000\n"
          ]
        },
        {
          "data": {
            "application/vnd.jupyter.widget-view+json": {
              "model_id": "c6c0eda4792647a1b104db59e317e602",
              "version_major": 2,
              "version_minor": 0
            },
            "text/plain": [
              "Epoch 31/50 Training:   0%|          | 0/3125 [00:00<?, ?it/s]"
            ]
          },
          "metadata": {},
          "output_type": "display_data"
        },
        {
          "data": {
            "application/vnd.jupyter.widget-view+json": {
              "model_id": "38a86230bff64985846a80d53933e038",
              "version_major": 2,
              "version_minor": 0
            },
            "text/plain": [
              "Epoch 31/50 Validation:   0%|          | 0/313 [00:00<?, ?it/s]"
            ]
          },
          "metadata": {},
          "output_type": "display_data"
        },
        {
          "name": "stdout",
          "output_type": "stream",
          "text": [
            "Epoch 31/50 - Train Loss: 0.6942, Train Acc: 0.4984 | Val Loss: 0.6935, Val Acc: 0.5000\n"
          ]
        },
        {
          "data": {
            "application/vnd.jupyter.widget-view+json": {
              "model_id": "26327a980eaa4ce191a57caf4be54e0d",
              "version_major": 2,
              "version_minor": 0
            },
            "text/plain": [
              "Epoch 32/50 Training:   0%|          | 0/3125 [00:00<?, ?it/s]"
            ]
          },
          "metadata": {},
          "output_type": "display_data"
        },
        {
          "data": {
            "application/vnd.jupyter.widget-view+json": {
              "model_id": "d5c03a4a6ff746c894ba673f2cbaac80",
              "version_major": 2,
              "version_minor": 0
            },
            "text/plain": [
              "Epoch 32/50 Validation:   0%|          | 0/313 [00:00<?, ?it/s]"
            ]
          },
          "metadata": {},
          "output_type": "display_data"
        },
        {
          "name": "stdout",
          "output_type": "stream",
          "text": [
            "Epoch 32/50 - Train Loss: 0.6942, Train Acc: 0.4981 | Val Loss: 0.7001, Val Acc: 0.5000\n"
          ]
        },
        {
          "data": {
            "application/vnd.jupyter.widget-view+json": {
              "model_id": "1217418165624d17b1991ac660d8e048",
              "version_major": 2,
              "version_minor": 0
            },
            "text/plain": [
              "Epoch 33/50 Training:   0%|          | 0/3125 [00:00<?, ?it/s]"
            ]
          },
          "metadata": {},
          "output_type": "display_data"
        },
        {
          "data": {
            "application/vnd.jupyter.widget-view+json": {
              "model_id": "28a5554da8544cceb0f4b5127e8270d5",
              "version_major": 2,
              "version_minor": 0
            },
            "text/plain": [
              "Epoch 33/50 Validation:   0%|          | 0/313 [00:00<?, ?it/s]"
            ]
          },
          "metadata": {},
          "output_type": "display_data"
        },
        {
          "name": "stdout",
          "output_type": "stream",
          "text": [
            "Epoch 33/50 - Train Loss: 0.6936, Train Acc: 0.5027 | Val Loss: 0.6932, Val Acc: 0.5000\n"
          ]
        },
        {
          "data": {
            "application/vnd.jupyter.widget-view+json": {
              "model_id": "f9bd459bb47f41eeb3660d80d5a3798e",
              "version_major": 2,
              "version_minor": 0
            },
            "text/plain": [
              "Epoch 34/50 Training:   0%|          | 0/3125 [00:00<?, ?it/s]"
            ]
          },
          "metadata": {},
          "output_type": "display_data"
        },
        {
          "data": {
            "application/vnd.jupyter.widget-view+json": {
              "model_id": "5d8bbd9f77e54c4ab69a8fd5d28ff5bf",
              "version_major": 2,
              "version_minor": 0
            },
            "text/plain": [
              "Epoch 34/50 Validation:   0%|          | 0/313 [00:00<?, ?it/s]"
            ]
          },
          "metadata": {},
          "output_type": "display_data"
        },
        {
          "name": "stdout",
          "output_type": "stream",
          "text": [
            "Epoch 34/50 - Train Loss: 0.6937, Train Acc: 0.5000 | Val Loss: 0.6932, Val Acc: 0.5000\n"
          ]
        },
        {
          "data": {
            "application/vnd.jupyter.widget-view+json": {
              "model_id": "fe0d3d36682347bb8fdfcd66d29c5f49",
              "version_major": 2,
              "version_minor": 0
            },
            "text/plain": [
              "Epoch 35/50 Training:   0%|          | 0/3125 [00:00<?, ?it/s]"
            ]
          },
          "metadata": {},
          "output_type": "display_data"
        },
        {
          "data": {
            "application/vnd.jupyter.widget-view+json": {
              "model_id": "b366bd755cdb49829739bba14ba9a129",
              "version_major": 2,
              "version_minor": 0
            },
            "text/plain": [
              "Epoch 35/50 Validation:   0%|          | 0/313 [00:00<?, ?it/s]"
            ]
          },
          "metadata": {},
          "output_type": "display_data"
        },
        {
          "name": "stdout",
          "output_type": "stream",
          "text": [
            "Epoch 35/50 - Train Loss: 0.6938, Train Acc: 0.4989 | Val Loss: 0.6936, Val Acc: 0.5000\n"
          ]
        },
        {
          "data": {
            "application/vnd.jupyter.widget-view+json": {
              "model_id": "adce6ac90676498fb9b3a6a6aa4f68aa",
              "version_major": 2,
              "version_minor": 0
            },
            "text/plain": [
              "Epoch 36/50 Training:   0%|          | 0/3125 [00:00<?, ?it/s]"
            ]
          },
          "metadata": {},
          "output_type": "display_data"
        },
        {
          "data": {
            "application/vnd.jupyter.widget-view+json": {
              "model_id": "38e9a9239b974c3c8ddde25c4155e56c",
              "version_major": 2,
              "version_minor": 0
            },
            "text/plain": [
              "Epoch 36/50 Validation:   0%|          | 0/313 [00:00<?, ?it/s]"
            ]
          },
          "metadata": {},
          "output_type": "display_data"
        },
        {
          "name": "stdout",
          "output_type": "stream",
          "text": [
            "Epoch 36/50 - Train Loss: 0.6935, Train Acc: 0.4996 | Val Loss: 0.6932, Val Acc: 0.5000\n"
          ]
        },
        {
          "data": {
            "application/vnd.jupyter.widget-view+json": {
              "model_id": "78199c757b914e4599b9fe239b51e469",
              "version_major": 2,
              "version_minor": 0
            },
            "text/plain": [
              "Epoch 37/50 Training:   0%|          | 0/3125 [00:00<?, ?it/s]"
            ]
          },
          "metadata": {},
          "output_type": "display_data"
        },
        {
          "data": {
            "application/vnd.jupyter.widget-view+json": {
              "model_id": "0e99358d59e347ea8ce1ecb222b35a17",
              "version_major": 2,
              "version_minor": 0
            },
            "text/plain": [
              "Epoch 37/50 Validation:   0%|          | 0/313 [00:00<?, ?it/s]"
            ]
          },
          "metadata": {},
          "output_type": "display_data"
        },
        {
          "name": "stdout",
          "output_type": "stream",
          "text": [
            "Epoch 37/50 - Train Loss: 0.6936, Train Acc: 0.4995 | Val Loss: 0.6932, Val Acc: 0.5000\n"
          ]
        },
        {
          "data": {
            "application/vnd.jupyter.widget-view+json": {
              "model_id": "190a28943d894be8a7155ba5bdd35aed",
              "version_major": 2,
              "version_minor": 0
            },
            "text/plain": [
              "Epoch 38/50 Training:   0%|          | 0/3125 [00:00<?, ?it/s]"
            ]
          },
          "metadata": {},
          "output_type": "display_data"
        },
        {
          "data": {
            "application/vnd.jupyter.widget-view+json": {
              "model_id": "52403fd8f2e545039c0897364cb1cec7",
              "version_major": 2,
              "version_minor": 0
            },
            "text/plain": [
              "Epoch 38/50 Validation:   0%|          | 0/313 [00:00<?, ?it/s]"
            ]
          },
          "metadata": {},
          "output_type": "display_data"
        },
        {
          "name": "stdout",
          "output_type": "stream",
          "text": [
            "Epoch 38/50 - Train Loss: 0.6935, Train Acc: 0.4979 | Val Loss: 0.6932, Val Acc: 0.5000\n"
          ]
        },
        {
          "data": {
            "application/vnd.jupyter.widget-view+json": {
              "model_id": "80bde8bca35140efbfc2ee80a985f697",
              "version_major": 2,
              "version_minor": 0
            },
            "text/plain": [
              "Epoch 39/50 Training:   0%|          | 0/3125 [00:00<?, ?it/s]"
            ]
          },
          "metadata": {},
          "output_type": "display_data"
        },
        {
          "data": {
            "application/vnd.jupyter.widget-view+json": {
              "model_id": "cbd900bc296d41f4a9002430fbb9188e",
              "version_major": 2,
              "version_minor": 0
            },
            "text/plain": [
              "Epoch 39/50 Validation:   0%|          | 0/313 [00:00<?, ?it/s]"
            ]
          },
          "metadata": {},
          "output_type": "display_data"
        },
        {
          "name": "stdout",
          "output_type": "stream",
          "text": [
            "Epoch 39/50 - Train Loss: 0.6934, Train Acc: 0.5024 | Val Loss: 0.6932, Val Acc: 0.5000\n"
          ]
        },
        {
          "data": {
            "application/vnd.jupyter.widget-view+json": {
              "model_id": "f196214e5b874bd9a05834cc91227375",
              "version_major": 2,
              "version_minor": 0
            },
            "text/plain": [
              "Epoch 40/50 Training:   0%|          | 0/3125 [00:00<?, ?it/s]"
            ]
          },
          "metadata": {},
          "output_type": "display_data"
        },
        {
          "data": {
            "application/vnd.jupyter.widget-view+json": {
              "model_id": "55696139284043cb8e7c4cc39870f756",
              "version_major": 2,
              "version_minor": 0
            },
            "text/plain": [
              "Epoch 40/50 Validation:   0%|          | 0/313 [00:00<?, ?it/s]"
            ]
          },
          "metadata": {},
          "output_type": "display_data"
        },
        {
          "name": "stdout",
          "output_type": "stream",
          "text": [
            "Epoch 40/50 - Train Loss: 0.6934, Train Acc: 0.5005 | Val Loss: 0.6932, Val Acc: 0.5000\n"
          ]
        },
        {
          "data": {
            "application/vnd.jupyter.widget-view+json": {
              "model_id": "c802f9038fca4c33b08c828f534430b5",
              "version_major": 2,
              "version_minor": 0
            },
            "text/plain": [
              "Epoch 41/50 Training:   0%|          | 0/3125 [00:00<?, ?it/s]"
            ]
          },
          "metadata": {},
          "output_type": "display_data"
        },
        {
          "data": {
            "application/vnd.jupyter.widget-view+json": {
              "model_id": "3d656b2296ab4c61b4fc8d0961199d83",
              "version_major": 2,
              "version_minor": 0
            },
            "text/plain": [
              "Epoch 41/50 Validation:   0%|          | 0/313 [00:00<?, ?it/s]"
            ]
          },
          "metadata": {},
          "output_type": "display_data"
        },
        {
          "name": "stdout",
          "output_type": "stream",
          "text": [
            "Epoch 41/50 - Train Loss: 0.6933, Train Acc: 0.4967 | Val Loss: 0.6932, Val Acc: 0.5000\n"
          ]
        },
        {
          "data": {
            "application/vnd.jupyter.widget-view+json": {
              "model_id": "618f8910d56a40f6bce2fc1d0aa3aa44",
              "version_major": 2,
              "version_minor": 0
            },
            "text/plain": [
              "Epoch 42/50 Training:   0%|          | 0/3125 [00:00<?, ?it/s]"
            ]
          },
          "metadata": {},
          "output_type": "display_data"
        },
        {
          "data": {
            "application/vnd.jupyter.widget-view+json": {
              "model_id": "37329d298d9541d1b441c009911118ce",
              "version_major": 2,
              "version_minor": 0
            },
            "text/plain": [
              "Epoch 42/50 Validation:   0%|          | 0/313 [00:00<?, ?it/s]"
            ]
          },
          "metadata": {},
          "output_type": "display_data"
        },
        {
          "name": "stdout",
          "output_type": "stream",
          "text": [
            "Epoch 42/50 - Train Loss: 0.6932, Train Acc: 0.5003 | Val Loss: 0.6932, Val Acc: 0.5000\n"
          ]
        },
        {
          "data": {
            "application/vnd.jupyter.widget-view+json": {
              "model_id": "27b0c922e55b4be0b824c7ef79d459bf",
              "version_major": 2,
              "version_minor": 0
            },
            "text/plain": [
              "Epoch 43/50 Training:   0%|          | 0/3125 [00:00<?, ?it/s]"
            ]
          },
          "metadata": {},
          "output_type": "display_data"
        },
        {
          "data": {
            "application/vnd.jupyter.widget-view+json": {
              "model_id": "2a408c4a81f24ad6a033ce9a54a4e0dd",
              "version_major": 2,
              "version_minor": 0
            },
            "text/plain": [
              "Epoch 43/50 Validation:   0%|          | 0/313 [00:00<?, ?it/s]"
            ]
          },
          "metadata": {},
          "output_type": "display_data"
        },
        {
          "name": "stdout",
          "output_type": "stream",
          "text": [
            "Epoch 43/50 - Train Loss: 0.6932, Train Acc: 0.5001 | Val Loss: 0.6934, Val Acc: 0.5000\n"
          ]
        },
        {
          "data": {
            "application/vnd.jupyter.widget-view+json": {
              "model_id": "6fe58ac41d6649449c412f598ad48f15",
              "version_major": 2,
              "version_minor": 0
            },
            "text/plain": [
              "Epoch 44/50 Training:   0%|          | 0/3125 [00:00<?, ?it/s]"
            ]
          },
          "metadata": {},
          "output_type": "display_data"
        },
        {
          "data": {
            "application/vnd.jupyter.widget-view+json": {
              "model_id": "af3b6da6d1ac47e79faafc91cbd07f96",
              "version_major": 2,
              "version_minor": 0
            },
            "text/plain": [
              "Epoch 44/50 Validation:   0%|          | 0/313 [00:00<?, ?it/s]"
            ]
          },
          "metadata": {},
          "output_type": "display_data"
        },
        {
          "name": "stdout",
          "output_type": "stream",
          "text": [
            "Epoch 44/50 - Train Loss: 0.6932, Train Acc: 0.5004 | Val Loss: 0.6931, Val Acc: 0.5000\n"
          ]
        },
        {
          "data": {
            "application/vnd.jupyter.widget-view+json": {
              "model_id": "f23363ffed0f4a608728234a273d23a6",
              "version_major": 2,
              "version_minor": 0
            },
            "text/plain": [
              "Epoch 45/50 Training:   0%|          | 0/3125 [00:00<?, ?it/s]"
            ]
          },
          "metadata": {},
          "output_type": "display_data"
        },
        {
          "data": {
            "application/vnd.jupyter.widget-view+json": {
              "model_id": "1d29172a0d4744f78aaade631c26eaa0",
              "version_major": 2,
              "version_minor": 0
            },
            "text/plain": [
              "Epoch 45/50 Validation:   0%|          | 0/313 [00:00<?, ?it/s]"
            ]
          },
          "metadata": {},
          "output_type": "display_data"
        },
        {
          "name": "stdout",
          "output_type": "stream",
          "text": [
            "Epoch 45/50 - Train Loss: 0.6932, Train Acc: 0.4981 | Val Loss: 0.6932, Val Acc: 0.5000\n"
          ]
        },
        {
          "data": {
            "application/vnd.jupyter.widget-view+json": {
              "model_id": "37ce189d60bf40cc8a8ec6aeceff0f61",
              "version_major": 2,
              "version_minor": 0
            },
            "text/plain": [
              "Epoch 46/50 Training:   0%|          | 0/3125 [00:00<?, ?it/s]"
            ]
          },
          "metadata": {},
          "output_type": "display_data"
        },
        {
          "data": {
            "application/vnd.jupyter.widget-view+json": {
              "model_id": "baf9058a25584834a3c1328acd479f9e",
              "version_major": 2,
              "version_minor": 0
            },
            "text/plain": [
              "Epoch 46/50 Validation:   0%|          | 0/313 [00:00<?, ?it/s]"
            ]
          },
          "metadata": {},
          "output_type": "display_data"
        },
        {
          "name": "stdout",
          "output_type": "stream",
          "text": [
            "Epoch 46/50 - Train Loss: 0.6932, Train Acc: 0.4979 | Val Loss: 0.6932, Val Acc: 0.5000\n"
          ]
        },
        {
          "data": {
            "application/vnd.jupyter.widget-view+json": {
              "model_id": "05ca2fbc67254ba78467d71a39067b60",
              "version_major": 2,
              "version_minor": 0
            },
            "text/plain": [
              "Epoch 47/50 Training:   0%|          | 0/3125 [00:00<?, ?it/s]"
            ]
          },
          "metadata": {},
          "output_type": "display_data"
        },
        {
          "data": {
            "application/vnd.jupyter.widget-view+json": {
              "model_id": "77eef4af8b1a4f09b158aacc9151e17c",
              "version_major": 2,
              "version_minor": 0
            },
            "text/plain": [
              "Epoch 47/50 Validation:   0%|          | 0/313 [00:00<?, ?it/s]"
            ]
          },
          "metadata": {},
          "output_type": "display_data"
        },
        {
          "name": "stdout",
          "output_type": "stream",
          "text": [
            "Epoch 47/50 - Train Loss: 0.6932, Train Acc: 0.5013 | Val Loss: 0.6933, Val Acc: 0.5000\n"
          ]
        },
        {
          "data": {
            "application/vnd.jupyter.widget-view+json": {
              "model_id": "4682d4351f654434b85528c60f5322cd",
              "version_major": 2,
              "version_minor": 0
            },
            "text/plain": [
              "Epoch 48/50 Training:   0%|          | 0/3125 [00:00<?, ?it/s]"
            ]
          },
          "metadata": {},
          "output_type": "display_data"
        },
        {
          "data": {
            "application/vnd.jupyter.widget-view+json": {
              "model_id": "e844456f5aaa4cc694a8cf934d257d7b",
              "version_major": 2,
              "version_minor": 0
            },
            "text/plain": [
              "Epoch 48/50 Validation:   0%|          | 0/313 [00:00<?, ?it/s]"
            ]
          },
          "metadata": {},
          "output_type": "display_data"
        },
        {
          "name": "stdout",
          "output_type": "stream",
          "text": [
            "Epoch 48/50 - Train Loss: 0.6932, Train Acc: 0.4976 | Val Loss: 0.6932, Val Acc: 0.5000\n"
          ]
        },
        {
          "data": {
            "application/vnd.jupyter.widget-view+json": {
              "model_id": "21d83d5010cd408abbd6b814fd153111",
              "version_major": 2,
              "version_minor": 0
            },
            "text/plain": [
              "Epoch 49/50 Training:   0%|          | 0/3125 [00:00<?, ?it/s]"
            ]
          },
          "metadata": {},
          "output_type": "display_data"
        },
        {
          "data": {
            "application/vnd.jupyter.widget-view+json": {
              "model_id": "7e460d99b0854f99bff512dfdb205ba9",
              "version_major": 2,
              "version_minor": 0
            },
            "text/plain": [
              "Epoch 49/50 Validation:   0%|          | 0/313 [00:00<?, ?it/s]"
            ]
          },
          "metadata": {},
          "output_type": "display_data"
        },
        {
          "name": "stdout",
          "output_type": "stream",
          "text": [
            "Epoch 49/50 - Train Loss: 0.6932, Train Acc: 0.4981 | Val Loss: 0.6931, Val Acc: 0.5000\n"
          ]
        },
        {
          "data": {
            "application/vnd.jupyter.widget-view+json": {
              "model_id": "7f2a9219012449c08cee6494f067682d",
              "version_major": 2,
              "version_minor": 0
            },
            "text/plain": [
              "Epoch 50/50 Training:   0%|          | 0/3125 [00:00<?, ?it/s]"
            ]
          },
          "metadata": {},
          "output_type": "display_data"
        },
        {
          "data": {
            "application/vnd.jupyter.widget-view+json": {
              "model_id": "694818a3e89144209a4d8dc4e02cb040",
              "version_major": 2,
              "version_minor": 0
            },
            "text/plain": [
              "Epoch 50/50 Validation:   0%|          | 0/313 [00:00<?, ?it/s]"
            ]
          },
          "metadata": {},
          "output_type": "display_data"
        },
        {
          "name": "stdout",
          "output_type": "stream",
          "text": [
            "Epoch 50/50 - Train Loss: 0.6931, Train Acc: 0.4992 | Val Loss: 0.6931, Val Acc: 0.5000\n",
            "Training complete!\n"
          ]
        }
      ],
      "source": [
        "# Checkpoint file path\n",
        "checkpoint_file = \"checkpoint.pth\"\n",
        "# checkpoint_file = \"/content/gdrive/MyDrive/best_swin_model.pth\"\n",
        "# Initialize or resume training variables\n",
        "start_epoch = 0\n",
        "if os.path.exists(checkpoint_file):\n",
        "    print(\"Checkpoint found. Resuming training from checkpoint...\")\n",
        "    # Load checkpoint to CPU first, then move state to TPU\n",
        "    checkpoint = torch.load(checkpoint_file, map_location=torch.device(\"cpu\"))\n",
        "    model.load_state_dict(checkpoint['model_state_dict'])\n",
        "    optimizer.load_state_dict(checkpoint['optimizer_state_dict'])\n",
        "    scheduler.load_state_dict(checkpoint['scheduler_state_dict'])\n",
        "    start_epoch = checkpoint['epoch'] + 1\n",
        "    best_val_loss = checkpoint['best_val_loss']\n",
        "    epochs_no_improve = checkpoint['epochs_no_improve']\n",
        "    train_losses = checkpoint.get('train_losses', [])\n",
        "    val_losses = checkpoint.get('val_losses', [])\n",
        "    # Move the model to the TPU device\n",
        "    model.to(device)\n",
        "else:\n",
        "    best_val_loss = float(\"inf\")\n",
        "    epochs_no_improve = 0\n",
        "    train_losses, val_losses = [], []\n",
        "model.to(device)\n",
        "for epoch in range(start_epoch, EPOCHS):\n",
        "    model.to(device).train()\n",
        "    train_loss = 0.0\n",
        "    correct = 0\n",
        "    total = 0\n",
        "    iteration = 0\n",
        "\n",
        "    # Training loop with a progress bar\n",
        "    train_pbar = tqdm(train_loader, desc=f\"Epoch {epoch+1}/{EPOCHS} Training\", leave=False)\n",
        "    for images, labels in train_pbar:\n",
        "        iteration += 1\n",
        "        images, labels = images.to(device), labels.to(device)\n",
        "\n",
        "        optimizer.zero_grad()\n",
        "        outputs = model(images)\n",
        "        loss = criterion(outputs, labels.long())\n",
        "\n",
        "        loss.backward()\n",
        "        optimizer.step()\n",
        "\n",
        "        batch_size = images.size(0)\n",
        "        train_loss += loss.item() * batch_size\n",
        "        _, predicted = torch.max(outputs, 1)\n",
        "        correct += (predicted == labels).sum().item()\n",
        "        total += batch_size\n",
        "\n",
        "        train_pbar.set_postfix({\n",
        "            \"Batch Loss\": f\"{loss.item():.4f}\",\n",
        "            \"Avg Loss\": f\"{train_loss/total:.4f}\",\n",
        "            \"Acc\": f\"{correct/total:.4f}\"\n",
        "        })\n",
        "\n",
        "\n",
        "    epoch_train_loss = train_loss / total if total > 0 else 0\n",
        "    train_losses.append(epoch_train_loss)\n",
        "    train_acc = correct / total if total > 0 else 0\n",
        "\n",
        "       # ...학습 중 손실(running loss)을 기록하고\n",
        "    writer.add_scalar('train loss', train_loss, epoch)\n",
        "    writer.add_scalar('train acc', train_acc, epoch)\n",
        "        # ...무작위 미니배치(mini-batch)에 대한 모델의 예측 결과를 보여주도록\n",
        "        # Matplotlib Figure를 기록합니다\n",
        "    writer.add_figure('predictions vs. actuals',\n",
        "                        plot_classes_preds(model, images, labels),\n",
        "                        global_step=epoch * len(train_loader))\n",
        "    writer.flush()\n",
        "\n",
        "    model.eval()\n",
        "    val_loss = 0.0\n",
        "    correct_val = 0\n",
        "    total_val = 0\n",
        "    val_pbar = tqdm(val_loader, desc=f\"Epoch {epoch+1}/{EPOCHS} Validation\", leave=False)\n",
        "    with torch.no_grad():\n",
        "        for images, labels in val_pbar:\n",
        "            images, labels = images.to(device), labels.to(device)\n",
        "            outputs = model(images)\n",
        "            loss = criterion(outputs, labels.long())\n",
        "\n",
        "            batch_size = images.size(0)\n",
        "            val_loss += loss.item() * batch_size\n",
        "            _, predicted = torch.max(outputs, 1)\n",
        "            correct_val += (predicted == labels).sum().item()\n",
        "            total_val += batch_size\n",
        "\n",
        "            val_pbar.set_postfix({\n",
        "                \"Batch Loss\": f\"{loss.item():.4f}\",\n",
        "                \"Avg Loss\": f\"{val_loss/total_val:.4f}\",\n",
        "                \"Acc\": f\"{correct_val/total_val:.4f}\"\n",
        "            })\n",
        "\n",
        "        epoch_val_loss = val_loss / total_val if total_val > 0 else 0\n",
        "        val_losses.append(epoch_val_loss)\n",
        "        val_acc = correct_val / total_val if total_val > 0 else 0\n",
        "\n",
        "        # ...학습 중 손실(running loss)을 기록하고\n",
        "        writer.add_scalar('val loss', val_loss, epoch)\n",
        "        writer.add_scalar('val acc', val_acc, epoch)\n",
        "        writer.flush()\n",
        "    \n",
        "    \n",
        "\n",
        "    print(f\"Epoch {epoch+1}/{EPOCHS} - Train Loss: {epoch_train_loss:.4f}, Train Acc: {train_acc:.4f} | \"\n",
        "          f\"Val Loss: {epoch_val_loss:.4f}, Val Acc: {val_acc:.4f}\")\n",
        "\n",
        "    # Save checkpoint after every epoch\n",
        "    checkpoint = {\n",
        "        'epoch': epoch,\n",
        "        'model_state_dict': model.state_dict(),\n",
        "        'optimizer_state_dict': optimizer.state_dict(),\n",
        "        'scheduler_state_dict': scheduler.state_dict(),\n",
        "        'best_val_loss': best_val_loss,\n",
        "        'epochs_no_improve': epochs_no_improve,\n",
        "        'train_losses': train_losses,\n",
        "        'val_losses': val_losses,\n",
        "    }\n",
        "    torch.save(checkpoint, checkpoint_file)\n",
        "    # Also save a separate model file for each epoch if desired\n",
        "    torch.save(model.state_dict(), f\"model_epoch_{epoch+1}.pth\")\n",
        "\n",
        "    # Early stopping check\n",
        "    if epoch_val_loss < best_val_loss:\n",
        "        best_val_loss = epoch_val_loss\n",
        "        epochs_no_improve = 0\n",
        "        torch.save(model.state_dict(), \"best_swin_model.pth\")  # Save best model separately\n",
        "    else:\n",
        "        epochs_no_improve += 1\n",
        "        if epochs_no_improve >= PATIENCE:\n",
        "            print(\"Early stopping triggered. Training stopped.\")\n",
        "            break\n",
        "\n",
        "    scheduler.step()\n",
        "    # print(met.metrics_report())\n",
        "\n",
        "print(\"Training complete!\")"
      ]
    },
    {
      "cell_type": "code",
      "execution_count": 16,
      "metadata": {
        "id": "32Clg5ZXv5f-"
      },
      "outputs": [],
      "source": [
        "torch.save(model.state_dict(), \"swin_transformer_real_fake.pth\")"
      ]
    },
    {
      "cell_type": "code",
      "execution_count": 17,
      "metadata": {},
      "outputs": [
        {
          "name": "stderr",
          "output_type": "stream",
          "text": [
            "                                                                             "
          ]
        },
        {
          "name": "stdout",
          "output_type": "stream",
          "text": [
            "Test Loss: 0.6931, Test Accuracy: 0.5000, F1 Score: 0.6667\n",
            "Confusion Matrix:\n",
            "[[   0 5000]\n",
            " [   0 5000]]\n"
          ]
        },
        {
          "name": "stderr",
          "output_type": "stream",
          "text": [
            "\r"
          ]
        }
      ],
      "source": [
        "import torch\n",
        "import torch.nn as nn\n",
        "from torch.utils.data import DataLoader\n",
        "from tqdm import tqdm\n",
        "from torchvision import transforms\n",
        "from PIL import ImageFile\n",
        "from sklearn.metrics import f1_score, confusion_matrix\n",
        "import numpy as np\n",
        "\n",
        "# Assume that test_dataset and your model class SwinClassifier are already defined\n",
        "BATCH_SIZE = 32\n",
        "test_loader = DataLoader(test_dataset, batch_size=BATCH_SIZE, shuffle=False, num_workers=0)\n",
        "\n",
        "# checkpoint_path = \"swin_transformer_real_fake.pth\"\n",
        "checkpoint_path = \"best_swin_model.pth\"\n",
        "\n",
        "model = SwinClassifier(num_classes=2)  # Create an instance of your model\n",
        "checkpoint = torch.load(checkpoint_path)\n",
        "model.load_state_dict(checkpoint)\n",
        "model.to(device)\n",
        "model.eval()\n",
        "\n",
        "# Define the loss function (if you want to compute test loss)\n",
        "criterion = nn.CrossEntropyLoss()\n",
        "\n",
        "# Run testing/inference\n",
        "correct = 0\n",
        "total = 0\n",
        "test_loss = 0.0\n",
        "all_preds = []\n",
        "all_labels = []\n",
        "\n",
        "test_pbar = tqdm(test_loader, desc=\"Testing\", leave=False)\n",
        "with torch.no_grad():\n",
        "    for images, labels in test_pbar:\n",
        "        images, labels = images.to(device), labels.to(device)\n",
        "        outputs = model(images)\n",
        "        loss = criterion(outputs, labels.long())\n",
        "\n",
        "        batch_size = images.size(0)\n",
        "        test_loss += loss.item() * batch_size\n",
        "        _, predicted = torch.max(outputs, 1)\n",
        "        correct += (predicted == labels).sum().item()\n",
        "        total += batch_size\n",
        "\n",
        "        all_preds.extend(predicted.cpu().numpy())\n",
        "        all_labels.extend(labels.cpu().numpy())\n",
        "\n",
        "        test_pbar.set_postfix({\"Batch Loss\": f\"{loss.item():.4f}\"})\n",
        "\n",
        "avg_loss = test_loss / total if total > 0 else 0\n",
        "accuracy = correct / total if total > 0 else 0\n",
        "\n",
        "# Calculate F1 score and confusion matrix\n",
        "f1 = f1_score(all_labels, all_preds, average='binary')  # or 'binary' for binary classification\n",
        "conf_matrix = confusion_matrix(all_labels, all_preds)\n",
        "\n",
        "print(f\"Test Loss: {avg_loss:.4f}, Test Accuracy: {accuracy:.4f}, F1 Score: {f1:.4f}\")\n",
        "print(\"Confusion Matrix:\")\n",
        "print(conf_matrix)\n",
        "\n",
        "writer.close()"
      ]
    }
  ],
  "metadata": {
    "accelerator": "TPU",
    "colab": {
      "gpuType": "V28",
      "provenance": []
    },
    "kernelspec": {
      "display_name": ".conda",
      "language": "python",
      "name": "python3"
    },
    "language_info": {
      "codemirror_mode": {
        "name": "ipython",
        "version": 3
      },
      "file_extension": ".py",
      "mimetype": "text/x-python",
      "name": "python",
      "nbconvert_exporter": "python",
      "pygments_lexer": "ipython3",
      "version": "3.11.11"
    },
    "widgets": {
      "application/vnd.jupyter.widget-state+json": {
        "0680bfe0f11143638f8b42fa475e91fb": {
          "model_module": "@jupyter-widgets/base",
          "model_module_version": "1.2.0",
          "model_name": "LayoutModel",
          "state": {
            "_model_module": "@jupyter-widgets/base",
            "_model_module_version": "1.2.0",
            "_model_name": "LayoutModel",
            "_view_count": null,
            "_view_module": "@jupyter-widgets/base",
            "_view_module_version": "1.2.0",
            "_view_name": "LayoutView",
            "align_content": null,
            "align_items": null,
            "align_self": null,
            "border": null,
            "bottom": null,
            "display": null,
            "flex": null,
            "flex_flow": null,
            "grid_area": null,
            "grid_auto_columns": null,
            "grid_auto_flow": null,
            "grid_auto_rows": null,
            "grid_column": null,
            "grid_gap": null,
            "grid_row": null,
            "grid_template_areas": null,
            "grid_template_columns": null,
            "grid_template_rows": null,
            "height": null,
            "justify_content": null,
            "justify_items": null,
            "left": null,
            "margin": null,
            "max_height": null,
            "max_width": null,
            "min_height": null,
            "min_width": null,
            "object_fit": null,
            "object_position": null,
            "order": null,
            "overflow": null,
            "overflow_x": null,
            "overflow_y": null,
            "padding": null,
            "right": null,
            "top": null,
            "visibility": null,
            "width": null
          }
        },
        "28e797390e094c7cabeee6e4cb8ff627": {
          "model_module": "@jupyter-widgets/base",
          "model_module_version": "1.2.0",
          "model_name": "LayoutModel",
          "state": {
            "_model_module": "@jupyter-widgets/base",
            "_model_module_version": "1.2.0",
            "_model_name": "LayoutModel",
            "_view_count": null,
            "_view_module": "@jupyter-widgets/base",
            "_view_module_version": "1.2.0",
            "_view_name": "LayoutView",
            "align_content": null,
            "align_items": null,
            "align_self": null,
            "border": null,
            "bottom": null,
            "display": null,
            "flex": null,
            "flex_flow": null,
            "grid_area": null,
            "grid_auto_columns": null,
            "grid_auto_flow": null,
            "grid_auto_rows": null,
            "grid_column": null,
            "grid_gap": null,
            "grid_row": null,
            "grid_template_areas": null,
            "grid_template_columns": null,
            "grid_template_rows": null,
            "height": null,
            "justify_content": null,
            "justify_items": null,
            "left": null,
            "margin": null,
            "max_height": null,
            "max_width": null,
            "min_height": null,
            "min_width": null,
            "object_fit": null,
            "object_position": null,
            "order": null,
            "overflow": null,
            "overflow_x": null,
            "overflow_y": null,
            "padding": null,
            "right": null,
            "top": null,
            "visibility": null,
            "width": null
          }
        },
        "4acd902418e14337b572891c67911f16": {
          "model_module": "@jupyter-widgets/controls",
          "model_module_version": "1.5.0",
          "model_name": "HTMLModel",
          "state": {
            "_dom_classes": [],
            "_model_module": "@jupyter-widgets/controls",
            "_model_module_version": "1.5.0",
            "_model_name": "HTMLModel",
            "_view_count": null,
            "_view_module": "@jupyter-widgets/controls",
            "_view_module_version": "1.5.0",
            "_view_name": "HTMLView",
            "description": "",
            "description_tooltip": null,
            "layout": "IPY_MODEL_28e797390e094c7cabeee6e4cb8ff627",
            "placeholder": "​",
            "style": "IPY_MODEL_9d23ea5cbbdf4d31a0f799b3b0db0df0",
            "value": "Epoch 1/10 Training:  19%"
          }
        },
        "4e23253ac2e945179234a57c96f0bb39": {
          "model_module": "@jupyter-widgets/base",
          "model_module_version": "1.2.0",
          "model_name": "LayoutModel",
          "state": {
            "_model_module": "@jupyter-widgets/base",
            "_model_module_version": "1.2.0",
            "_model_name": "LayoutModel",
            "_view_count": null,
            "_view_module": "@jupyter-widgets/base",
            "_view_module_version": "1.2.0",
            "_view_name": "LayoutView",
            "align_content": null,
            "align_items": null,
            "align_self": null,
            "border": null,
            "bottom": null,
            "display": null,
            "flex": null,
            "flex_flow": null,
            "grid_area": null,
            "grid_auto_columns": null,
            "grid_auto_flow": null,
            "grid_auto_rows": null,
            "grid_column": null,
            "grid_gap": null,
            "grid_row": null,
            "grid_template_areas": null,
            "grid_template_columns": null,
            "grid_template_rows": null,
            "height": null,
            "justify_content": null,
            "justify_items": null,
            "left": null,
            "margin": null,
            "max_height": null,
            "max_width": null,
            "min_height": null,
            "min_width": null,
            "object_fit": null,
            "object_position": null,
            "order": null,
            "overflow": null,
            "overflow_x": null,
            "overflow_y": null,
            "padding": null,
            "right": null,
            "top": null,
            "visibility": null,
            "width": null
          }
        },
        "75afa36b7bdc48468c3d5474d6aaeb4e": {
          "model_module": "@jupyter-widgets/controls",
          "model_module_version": "1.5.0",
          "model_name": "FloatProgressModel",
          "state": {
            "_dom_classes": [],
            "_model_module": "@jupyter-widgets/controls",
            "_model_module_version": "1.5.0",
            "_model_name": "FloatProgressModel",
            "_view_count": null,
            "_view_module": "@jupyter-widgets/controls",
            "_view_module_version": "1.5.0",
            "_view_name": "ProgressView",
            "bar_style": "",
            "description": "",
            "description_tooltip": null,
            "layout": "IPY_MODEL_0680bfe0f11143638f8b42fa475e91fb",
            "max": 3125,
            "min": 0,
            "orientation": "horizontal",
            "style": "IPY_MODEL_9ffa8b6ce8a7448bba1360896784a72e",
            "value": 580
          }
        },
        "9368ab38055d48e5b5729520c272fcce": {
          "model_module": "@jupyter-widgets/base",
          "model_module_version": "1.2.0",
          "model_name": "LayoutModel",
          "state": {
            "_model_module": "@jupyter-widgets/base",
            "_model_module_version": "1.2.0",
            "_model_name": "LayoutModel",
            "_view_count": null,
            "_view_module": "@jupyter-widgets/base",
            "_view_module_version": "1.2.0",
            "_view_name": "LayoutView",
            "align_content": null,
            "align_items": null,
            "align_self": null,
            "border": null,
            "bottom": null,
            "display": null,
            "flex": null,
            "flex_flow": null,
            "grid_area": null,
            "grid_auto_columns": null,
            "grid_auto_flow": null,
            "grid_auto_rows": null,
            "grid_column": null,
            "grid_gap": null,
            "grid_row": null,
            "grid_template_areas": null,
            "grid_template_columns": null,
            "grid_template_rows": null,
            "height": null,
            "justify_content": null,
            "justify_items": null,
            "left": null,
            "margin": null,
            "max_height": null,
            "max_width": null,
            "min_height": null,
            "min_width": null,
            "object_fit": null,
            "object_position": null,
            "order": null,
            "overflow": null,
            "overflow_x": null,
            "overflow_y": null,
            "padding": null,
            "right": null,
            "top": null,
            "visibility": null,
            "width": null
          }
        },
        "9d23ea5cbbdf4d31a0f799b3b0db0df0": {
          "model_module": "@jupyter-widgets/controls",
          "model_module_version": "1.5.0",
          "model_name": "DescriptionStyleModel",
          "state": {
            "_model_module": "@jupyter-widgets/controls",
            "_model_module_version": "1.5.0",
            "_model_name": "DescriptionStyleModel",
            "_view_count": null,
            "_view_module": "@jupyter-widgets/base",
            "_view_module_version": "1.2.0",
            "_view_name": "StyleView",
            "description_width": ""
          }
        },
        "9ffa8b6ce8a7448bba1360896784a72e": {
          "model_module": "@jupyter-widgets/controls",
          "model_module_version": "1.5.0",
          "model_name": "ProgressStyleModel",
          "state": {
            "_model_module": "@jupyter-widgets/controls",
            "_model_module_version": "1.5.0",
            "_model_name": "ProgressStyleModel",
            "_view_count": null,
            "_view_module": "@jupyter-widgets/base",
            "_view_module_version": "1.2.0",
            "_view_name": "StyleView",
            "bar_color": null,
            "description_width": ""
          }
        },
        "a8a700745e204885ae1ea0b1bf47fc60": {
          "model_module": "@jupyter-widgets/controls",
          "model_module_version": "1.5.0",
          "model_name": "HTMLModel",
          "state": {
            "_dom_classes": [],
            "_model_module": "@jupyter-widgets/controls",
            "_model_module_version": "1.5.0",
            "_model_name": "HTMLModel",
            "_view_count": null,
            "_view_module": "@jupyter-widgets/controls",
            "_view_module_version": "1.5.0",
            "_view_name": "HTMLView",
            "description": "",
            "description_tooltip": null,
            "layout": "IPY_MODEL_9368ab38055d48e5b5729520c272fcce",
            "placeholder": "​",
            "style": "IPY_MODEL_a8eaca28642c45edba54feaa4018963d",
            "value": " 580/3125 [08:41&lt;23:00,  1.84it/s, Batch Loss=0.2049, Avg Loss=0.3730, Acc=0.8503]"
          }
        },
        "a8eaca28642c45edba54feaa4018963d": {
          "model_module": "@jupyter-widgets/controls",
          "model_module_version": "1.5.0",
          "model_name": "DescriptionStyleModel",
          "state": {
            "_model_module": "@jupyter-widgets/controls",
            "_model_module_version": "1.5.0",
            "_model_name": "DescriptionStyleModel",
            "_view_count": null,
            "_view_module": "@jupyter-widgets/base",
            "_view_module_version": "1.2.0",
            "_view_name": "StyleView",
            "description_width": ""
          }
        },
        "d8bb831ac4aa497698a0ef2352643a67": {
          "model_module": "@jupyter-widgets/controls",
          "model_module_version": "1.5.0",
          "model_name": "HBoxModel",
          "state": {
            "_dom_classes": [],
            "_model_module": "@jupyter-widgets/controls",
            "_model_module_version": "1.5.0",
            "_model_name": "HBoxModel",
            "_view_count": null,
            "_view_module": "@jupyter-widgets/controls",
            "_view_module_version": "1.5.0",
            "_view_name": "HBoxView",
            "box_style": "",
            "children": [
              "IPY_MODEL_4acd902418e14337b572891c67911f16",
              "IPY_MODEL_75afa36b7bdc48468c3d5474d6aaeb4e",
              "IPY_MODEL_a8a700745e204885ae1ea0b1bf47fc60"
            ],
            "layout": "IPY_MODEL_4e23253ac2e945179234a57c96f0bb39"
          }
        }
      }
    }
  },
  "nbformat": 4,
  "nbformat_minor": 0
}
